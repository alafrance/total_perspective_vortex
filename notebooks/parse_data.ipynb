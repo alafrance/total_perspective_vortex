{
 "cells": [
  {
   "metadata": {},
   "cell_type": "markdown",
   "source": "# Vortex : Data Parsing",
   "id": "d84dfef6fe38e0a8"
  },
  {
   "metadata": {},
   "cell_type": "markdown",
   "source": "## 1. Importing Libraries",
   "id": "bb15e725eaa55e2"
  },
  {
   "metadata": {},
   "cell_type": "code",
   "outputs": [],
   "execution_count": null,
   "source": [
    "import mne\n",
    "import numpy as np\n",
    "import joblib"
   ],
   "id": "f8587172e8c38db8"
  },
  {
   "metadata": {},
   "cell_type": "markdown",
   "source": "## 2. Loading Data",
   "id": "5dea932470cd7c6e"
  },
  {
   "metadata": {},
   "cell_type": "code",
   "outputs": [],
   "execution_count": null,
   "source": "data_directory = '../data/raw/'",
   "id": "3b470c4be7a2f3ac"
  }
 ],
 "metadata": {
  "kernelspec": {
   "display_name": "Python 3",
   "language": "python",
   "name": "python3"
  },
  "language_info": {
   "codemirror_mode": {
    "name": "ipython",
    "version": 2
   },
   "file_extension": ".py",
   "mimetype": "text/x-python",
   "name": "python",
   "nbconvert_exporter": "python",
   "pygments_lexer": "ipython2",
   "version": "2.7.6"
  }
 },
 "nbformat": 4,
 "nbformat_minor": 5
}
